{
  "nbformat": 4,
  "nbformat_minor": 0,
  "metadata": {
    "colab": {
      "name": "EDA_Modelling_Data_with_PySpark.ipynb",
      "provenance": [],
      "authorship_tag": "ABX9TyNsAPS8yKswpNeSl7dBlgVJ"
    },
    "kernelspec": {
      "name": "python3",
      "display_name": "Python 3"
    },
    "language_info": {
      "name": "python"
    }
  },
  "cells": [
    {
      "cell_type": "markdown",
      "source": [
        "# **EDA + MODELING USING PYSPARK**"
      ],
      "metadata": {
        "id": "9OYqOJOCbnky"
      }
    },
    {
      "cell_type": "markdown",
      "source": [
        "Source Dataset : https://www.kaggle.com/datasets/uciml/pima-indians-diabetes-database"
      ],
      "metadata": {
        "id": "SSNowAMtbilT"
      }
    },
    {
      "cell_type": "markdown",
      "source": [
        "# Install pyspark"
      ],
      "metadata": {
        "id": "OdXsu8d3NLNs"
      }
    },
    {
      "cell_type": "code",
      "source": [
        "pip install pyspark py4j"
      ],
      "metadata": {
        "colab": {
          "base_uri": "https://localhost:8080/"
        },
        "id": "lu8nr0HlY7WA",
        "outputId": "51f77a1b-3c21-4e72-80c8-90049beb20fa"
      },
      "execution_count": 364,
      "outputs": [
        {
          "output_type": "stream",
          "name": "stdout",
          "text": [
            "Looking in indexes: https://pypi.org/simple, https://us-python.pkg.dev/colab-wheels/public/simple/\n",
            "Requirement already satisfied: pyspark in /usr/local/lib/python3.7/dist-packages (3.3.0)\n",
            "Requirement already satisfied: py4j in /usr/local/lib/python3.7/dist-packages (0.10.9.5)\n"
          ]
        }
      ]
    },
    {
      "cell_type": "markdown",
      "source": [
        "# Memulai Spark SQL Application"
      ],
      "metadata": {
        "id": "GiG5t0hhNTRJ"
      }
    },
    {
      "cell_type": "markdown",
      "source": [
        "Kita perlu meng-import SparkSession sebelum masuk ke Spark SQL Application. **SparkSession** adalah entry point untuk dapat mengakses ke fungsionalitas PySpark seperti untuk membuat PySpark RDD, DataFrame dll."
      ],
      "metadata": {
        "id": "DJ2rjE2dN9da"
      }
    },
    {
      "cell_type": "code",
      "execution_count": 365,
      "metadata": {
        "id": "dQHZZ1hNYS7C"
      },
      "outputs": [],
      "source": [
        "from pyspark.sql import SparkSession"
      ]
    },
    {
      "cell_type": "markdown",
      "source": [
        "Untuk membuat aplikasi Spark SQL, dapat dilakukan dengan menggunakan method **.builder()** lalu **.appName** menyesuaikan dengan nama aplikasi spark sql yang akan dijalankan."
      ],
      "metadata": {
        "id": "NkkasEM4OtHh"
      }
    },
    {
      "cell_type": "code",
      "source": [
        "spark = SparkSession.builder.appName(\"diabetes\").getOrCreate()"
      ],
      "metadata": {
        "id": "wQPaTZxgZKoB"
      },
      "execution_count": 366,
      "outputs": []
    },
    {
      "cell_type": "markdown",
      "source": [
        "Baca dataset menggunakan method **.read.csv()**"
      ],
      "metadata": {
        "id": "ohUoDeC-SF_5"
      }
    },
    {
      "cell_type": "code",
      "source": [
        "df = spark.read.csv(\"diabetes.csv\", header=True, inferSchema=True)"
      ],
      "metadata": {
        "id": "hLTBVQP9ZZSi"
      },
      "execution_count": 367,
      "outputs": []
    },
    {
      "cell_type": "markdown",
      "source": [
        "Menampilkan 5 record data teratas dari dataset dengan method **.show()**"
      ],
      "metadata": {
        "id": "XKkLcH4RSPdz"
      }
    },
    {
      "cell_type": "code",
      "source": [
        "df.show(5)"
      ],
      "metadata": {
        "colab": {
          "base_uri": "https://localhost:8080/"
        },
        "id": "YgE4vxnNZhGT",
        "outputId": "4a81242a-e2e0-409d-dd66-c349f4260d9a"
      },
      "execution_count": 368,
      "outputs": [
        {
          "output_type": "stream",
          "name": "stdout",
          "text": [
            "+-----------+-------+-------------+-------------+-------+----+------------------------+---+-------+\n",
            "|Pregnancies|Glucose|BloodPressure|SkinThickness|Insulin| BMI|DiabetesPedigreeFunction|Age|Outcome|\n",
            "+-----------+-------+-------------+-------------+-------+----+------------------------+---+-------+\n",
            "|          6|    148|           72|           35|      0|33.6|                   0.627| 50|      1|\n",
            "|          1|     85|           66|           29|      0|26.6|                   0.351| 31|      0|\n",
            "|          8|    183|           64|            0|      0|23.3|                   0.672| 32|      1|\n",
            "|          1|     89|           66|           23|     94|28.1|                   0.167| 21|      0|\n",
            "|          0|    137|           40|           35|    168|43.1|                   2.288| 33|      1|\n",
            "+-----------+-------+-------------+-------------+-------+----+------------------------+---+-------+\n",
            "only showing top 5 rows\n",
            "\n"
          ]
        }
      ]
    },
    {
      "cell_type": "markdown",
      "source": [
        "Metode **printSchema()** digunakan untuk menampilkan skema kerangka data PySpark. Method ini akan mengembalikan struktur seperti pohon dan mendapatkan nama kolom serta datetype. \n",
        "\n",
        "Dapat dilihat dari hasil skema kerangka data pada dataset ini, terdapat **9 kolom** dengan 2 diantaranya bertipe data **double**, dan sisanya bertipe data **integer**. Lalu, terdapat nilai **nullable = true** yang artinya **tidak ada missing value** pada setiap kolom."
      ],
      "metadata": {
        "id": "iK9uth37SYMF"
      }
    },
    {
      "cell_type": "code",
      "source": [
        "df.printSchema()"
      ],
      "metadata": {
        "colab": {
          "base_uri": "https://localhost:8080/"
        },
        "id": "2Uvc_jLJZkEK",
        "outputId": "02489560-e838-4bd6-adeb-e98d37d73860"
      },
      "execution_count": 369,
      "outputs": [
        {
          "output_type": "stream",
          "name": "stdout",
          "text": [
            "root\n",
            " |-- Pregnancies: integer (nullable = true)\n",
            " |-- Glucose: integer (nullable = true)\n",
            " |-- BloodPressure: integer (nullable = true)\n",
            " |-- SkinThickness: integer (nullable = true)\n",
            " |-- Insulin: integer (nullable = true)\n",
            " |-- BMI: double (nullable = true)\n",
            " |-- DiabetesPedigreeFunction: double (nullable = true)\n",
            " |-- Age: integer (nullable = true)\n",
            " |-- Outcome: integer (nullable = true)\n",
            "\n"
          ]
        }
      ]
    },
    {
      "cell_type": "markdown",
      "source": [
        "Melihat statistik deskriptif dari dataset menggunakan method **.describe()**\n",
        "\n",
        "Method **.toPandas()** digunakan untuk mengkonversi spark dataframe ke bentuk pandas dataframe.\n",
        "\n",
        "Dari hasil statistik deskriptif ini, kita dapat melihat jumlah data pada setiap kolom (**count**), rata-rata setiap kolom (**mean**), standar deviasi (**stddev**), nilai minimun dan maksimun pada setiap kolom (**min**, **max**)"
      ],
      "metadata": {
        "id": "stznMEXqUMLS"
      }
    },
    {
      "cell_type": "code",
      "source": [
        "df.describe().toPandas()"
      ],
      "metadata": {
        "colab": {
          "base_uri": "https://localhost:8080/",
          "height": 270
        },
        "id": "wst2sv3BZnBB",
        "outputId": "b7d3ab92-9f9e-48da-8017-9087b03d9f66"
      },
      "execution_count": 370,
      "outputs": [
        {
          "output_type": "execute_result",
          "data": {
            "text/plain": [
              "  summary         Pregnancies            Glucose       BloodPressure  \\\n",
              "0   count                 768                768                 768   \n",
              "1    mean  3.8450520833333335       120.89453125         69.10546875   \n",
              "2  stddev    3.36957806269887  31.97261819513622  19.355807170644777   \n",
              "3     min                   0                  0                   0   \n",
              "4     max                  17                199                 122   \n",
              "\n",
              "        SkinThickness             Insulin                 BMI  \\\n",
              "0                 768                 768                 768   \n",
              "1  20.536458333333332   79.79947916666667  31.992578124999977   \n",
              "2  15.952217567727642  115.24400235133803   7.884160320375441   \n",
              "3                   0                   0                 0.0   \n",
              "4                  99                 846                67.1   \n",
              "\n",
              "  DiabetesPedigreeFunction                 Age             Outcome  \n",
              "0                      768                 768                 768  \n",
              "1       0.4718763020833327  33.240885416666664  0.3489583333333333  \n",
              "2        0.331328595012775  11.760231540678689   0.476951377242799  \n",
              "3                    0.078                  21                   0  \n",
              "4                     2.42                  81                   1  "
            ],
            "text/html": [
              "\n",
              "  <div id=\"df-c73b86c8-2db0-4498-8e6a-79fc79b9d3e5\">\n",
              "    <div class=\"colab-df-container\">\n",
              "      <div>\n",
              "<style scoped>\n",
              "    .dataframe tbody tr th:only-of-type {\n",
              "        vertical-align: middle;\n",
              "    }\n",
              "\n",
              "    .dataframe tbody tr th {\n",
              "        vertical-align: top;\n",
              "    }\n",
              "\n",
              "    .dataframe thead th {\n",
              "        text-align: right;\n",
              "    }\n",
              "</style>\n",
              "<table border=\"1\" class=\"dataframe\">\n",
              "  <thead>\n",
              "    <tr style=\"text-align: right;\">\n",
              "      <th></th>\n",
              "      <th>summary</th>\n",
              "      <th>Pregnancies</th>\n",
              "      <th>Glucose</th>\n",
              "      <th>BloodPressure</th>\n",
              "      <th>SkinThickness</th>\n",
              "      <th>Insulin</th>\n",
              "      <th>BMI</th>\n",
              "      <th>DiabetesPedigreeFunction</th>\n",
              "      <th>Age</th>\n",
              "      <th>Outcome</th>\n",
              "    </tr>\n",
              "  </thead>\n",
              "  <tbody>\n",
              "    <tr>\n",
              "      <th>0</th>\n",
              "      <td>count</td>\n",
              "      <td>768</td>\n",
              "      <td>768</td>\n",
              "      <td>768</td>\n",
              "      <td>768</td>\n",
              "      <td>768</td>\n",
              "      <td>768</td>\n",
              "      <td>768</td>\n",
              "      <td>768</td>\n",
              "      <td>768</td>\n",
              "    </tr>\n",
              "    <tr>\n",
              "      <th>1</th>\n",
              "      <td>mean</td>\n",
              "      <td>3.8450520833333335</td>\n",
              "      <td>120.89453125</td>\n",
              "      <td>69.10546875</td>\n",
              "      <td>20.536458333333332</td>\n",
              "      <td>79.79947916666667</td>\n",
              "      <td>31.992578124999977</td>\n",
              "      <td>0.4718763020833327</td>\n",
              "      <td>33.240885416666664</td>\n",
              "      <td>0.3489583333333333</td>\n",
              "    </tr>\n",
              "    <tr>\n",
              "      <th>2</th>\n",
              "      <td>stddev</td>\n",
              "      <td>3.36957806269887</td>\n",
              "      <td>31.97261819513622</td>\n",
              "      <td>19.355807170644777</td>\n",
              "      <td>15.952217567727642</td>\n",
              "      <td>115.24400235133803</td>\n",
              "      <td>7.884160320375441</td>\n",
              "      <td>0.331328595012775</td>\n",
              "      <td>11.760231540678689</td>\n",
              "      <td>0.476951377242799</td>\n",
              "    </tr>\n",
              "    <tr>\n",
              "      <th>3</th>\n",
              "      <td>min</td>\n",
              "      <td>0</td>\n",
              "      <td>0</td>\n",
              "      <td>0</td>\n",
              "      <td>0</td>\n",
              "      <td>0</td>\n",
              "      <td>0.0</td>\n",
              "      <td>0.078</td>\n",
              "      <td>21</td>\n",
              "      <td>0</td>\n",
              "    </tr>\n",
              "    <tr>\n",
              "      <th>4</th>\n",
              "      <td>max</td>\n",
              "      <td>17</td>\n",
              "      <td>199</td>\n",
              "      <td>122</td>\n",
              "      <td>99</td>\n",
              "      <td>846</td>\n",
              "      <td>67.1</td>\n",
              "      <td>2.42</td>\n",
              "      <td>81</td>\n",
              "      <td>1</td>\n",
              "    </tr>\n",
              "  </tbody>\n",
              "</table>\n",
              "</div>\n",
              "      <button class=\"colab-df-convert\" onclick=\"convertToInteractive('df-c73b86c8-2db0-4498-8e6a-79fc79b9d3e5')\"\n",
              "              title=\"Convert this dataframe to an interactive table.\"\n",
              "              style=\"display:none;\">\n",
              "        \n",
              "  <svg xmlns=\"http://www.w3.org/2000/svg\" height=\"24px\"viewBox=\"0 0 24 24\"\n",
              "       width=\"24px\">\n",
              "    <path d=\"M0 0h24v24H0V0z\" fill=\"none\"/>\n",
              "    <path d=\"M18.56 5.44l.94 2.06.94-2.06 2.06-.94-2.06-.94-.94-2.06-.94 2.06-2.06.94zm-11 1L8.5 8.5l.94-2.06 2.06-.94-2.06-.94L8.5 2.5l-.94 2.06-2.06.94zm10 10l.94 2.06.94-2.06 2.06-.94-2.06-.94-.94-2.06-.94 2.06-2.06.94z\"/><path d=\"M17.41 7.96l-1.37-1.37c-.4-.4-.92-.59-1.43-.59-.52 0-1.04.2-1.43.59L10.3 9.45l-7.72 7.72c-.78.78-.78 2.05 0 2.83L4 21.41c.39.39.9.59 1.41.59.51 0 1.02-.2 1.41-.59l7.78-7.78 2.81-2.81c.8-.78.8-2.07 0-2.86zM5.41 20L4 18.59l7.72-7.72 1.47 1.35L5.41 20z\"/>\n",
              "  </svg>\n",
              "      </button>\n",
              "      \n",
              "  <style>\n",
              "    .colab-df-container {\n",
              "      display:flex;\n",
              "      flex-wrap:wrap;\n",
              "      gap: 12px;\n",
              "    }\n",
              "\n",
              "    .colab-df-convert {\n",
              "      background-color: #E8F0FE;\n",
              "      border: none;\n",
              "      border-radius: 50%;\n",
              "      cursor: pointer;\n",
              "      display: none;\n",
              "      fill: #1967D2;\n",
              "      height: 32px;\n",
              "      padding: 0 0 0 0;\n",
              "      width: 32px;\n",
              "    }\n",
              "\n",
              "    .colab-df-convert:hover {\n",
              "      background-color: #E2EBFA;\n",
              "      box-shadow: 0px 1px 2px rgba(60, 64, 67, 0.3), 0px 1px 3px 1px rgba(60, 64, 67, 0.15);\n",
              "      fill: #174EA6;\n",
              "    }\n",
              "\n",
              "    [theme=dark] .colab-df-convert {\n",
              "      background-color: #3B4455;\n",
              "      fill: #D2E3FC;\n",
              "    }\n",
              "\n",
              "    [theme=dark] .colab-df-convert:hover {\n",
              "      background-color: #434B5C;\n",
              "      box-shadow: 0px 1px 3px 1px rgba(0, 0, 0, 0.15);\n",
              "      filter: drop-shadow(0px 1px 2px rgba(0, 0, 0, 0.3));\n",
              "      fill: #FFFFFF;\n",
              "    }\n",
              "  </style>\n",
              "\n",
              "      <script>\n",
              "        const buttonEl =\n",
              "          document.querySelector('#df-c73b86c8-2db0-4498-8e6a-79fc79b9d3e5 button.colab-df-convert');\n",
              "        buttonEl.style.display =\n",
              "          google.colab.kernel.accessAllowed ? 'block' : 'none';\n",
              "\n",
              "        async function convertToInteractive(key) {\n",
              "          const element = document.querySelector('#df-c73b86c8-2db0-4498-8e6a-79fc79b9d3e5');\n",
              "          const dataTable =\n",
              "            await google.colab.kernel.invokeFunction('convertToInteractive',\n",
              "                                                     [key], {});\n",
              "          if (!dataTable) return;\n",
              "\n",
              "          const docLinkHtml = 'Like what you see? Visit the ' +\n",
              "            '<a target=\"_blank\" href=https://colab.research.google.com/notebooks/data_table.ipynb>data table notebook</a>'\n",
              "            + ' to learn more about interactive tables.';\n",
              "          element.innerHTML = '';\n",
              "          dataTable['output_type'] = 'display_data';\n",
              "          await google.colab.output.renderOutput(dataTable, element);\n",
              "          const docLink = document.createElement('div');\n",
              "          docLink.innerHTML = docLinkHtml;\n",
              "          element.appendChild(docLink);\n",
              "        }\n",
              "      </script>\n",
              "    </div>\n",
              "  </div>\n",
              "  "
            ]
          },
          "metadata": {},
          "execution_count": 370
        }
      ]
    },
    {
      "cell_type": "markdown",
      "source": [
        "Melakukan grouping terhadap kolom 'Outcome' untuk melihat jumlah Outcome yang bernilai 1 dan bernilai 0. Grouping dilakukan dengan menggunakan method **.groupby()**\n",
        "\n",
        "Outcome bernilai **1** artinya **positif diabetes**, dengan jumlah **268** data.\n",
        "Outcome bernilai **0** artinya **negatif diabetes**, dengan jumlah **500** data."
      ],
      "metadata": {
        "id": "RCRWq9YUWHeE"
      }
    },
    {
      "cell_type": "code",
      "source": [
        "df.groupby('Outcome').count().show()"
      ],
      "metadata": {
        "colab": {
          "base_uri": "https://localhost:8080/"
        },
        "id": "IL2EzBKbZq_r",
        "outputId": "7058b3db-cd00-44f7-8e54-4f83345f40b6"
      },
      "execution_count": 371,
      "outputs": [
        {
          "output_type": "stream",
          "name": "stdout",
          "text": [
            "+-------+-----+\n",
            "|Outcome|count|\n",
            "+-------+-----+\n",
            "|      1|  268|\n",
            "|      0|  500|\n",
            "+-------+-----+\n",
            "\n"
          ]
        }
      ]
    },
    {
      "cell_type": "markdown",
      "source": [
        "# Visualisasi Ditribusi Data"
      ],
      "metadata": {
        "id": "3NPjdrPTV9TX"
      }
    },
    {
      "cell_type": "markdown",
      "source": [
        "Visualisasi distribusi data dilakukan dengan menggunakan library **matplotlib** dan **seaborn**."
      ],
      "metadata": {
        "id": "b4lpKaYfdSQv"
      }
    },
    {
      "cell_type": "code",
      "source": [
        "import matplotlib.pyplot as plt\n",
        "import seaborn as sns"
      ],
      "metadata": {
        "id": "PYXob9bXZvUh"
      },
      "execution_count": 372,
      "outputs": []
    },
    {
      "cell_type": "code",
      "source": [
        "fig = plt.figure(figsize=(25, 15))\n",
        "st = fig.suptitle(\"Distribusi Data setiap Kolom/Fitur\", fontsize=50, verticalalignment=\"center\")\n",
        "for col, num in zip(df.toPandas().describe().columns, range(1,11)):\n",
        "  ax = fig.add_subplot(3,4, num)\n",
        "  ax.hist(df.toPandas()[col])\n",
        "  plt.grid(False)\n",
        "  plt.xticks(rotation=45, fontsize=20)\n",
        "  plt.yticks(fontsize=15)\n",
        "  plt.title(col.upper(), fontsize=20)\n",
        "\n",
        "plt.tight_layout()\n",
        "st.set_y(0.95)\n",
        "fig.subplots_adjust(top=0.85, hspace=0.4)\n",
        "plt.show()"
      ],
      "metadata": {
        "colab": {
          "base_uri": "https://localhost:8080/",
          "height": 749
        },
        "id": "wVH0kHXSZ0Fc",
        "outputId": "eb8148ff-fe16-4be1-9315-6fea3ef7222f"
      },
      "execution_count": 373,
      "outputs": [
        {
          "output_type": "display_data",
          "data": {
            "text/plain": [
              "<Figure size 1800x1080 with 9 Axes>"
            ],
            "image/png": "[encoded data removed]"
          },
          "metadata": {
            "needs_background": "light"
          }
        }
      ]
    },
    {
      "cell_type": "markdown",
      "source": [
        "Dari hasil visualiasi distribusi data diatas, dapat dilihat untuk fitur Pregnancies, Insulin, Diabetespedigreefunction dan Age memiliki visual grafik yang tidak simetris atau dalam statistik biasa disebut dengan Skewness. Lalu, untuk fitur Glucose, Bloodpressure, Skinthickness dan BMI memiliki visual grafik yang dapat dibilang sudah hampir terdistribusi normal, walaupun masih terdapat sedikit outlier di beberapa fitur.\n",
        "\n",
        "Untuk fitur Outcome termasuk kedalam distribusi binomial."
      ],
      "metadata": {
        "id": "RTkbVUzPfkcE"
      }
    },
    {
      "cell_type": "markdown",
      "source": [
        "Mengimport sql function yaitu isnan, when, count dan col untuk digunakan pada method .select(). dimana ini akan mengecek kembali apakah ada missing value di setiap kolom atau tidak."
      ],
      "metadata": {
        "id": "EzRLBG9aiLee"
      }
    },
    {
      "cell_type": "code",
      "source": [
        "from pyspark.sql.functions import isnan, when, count, col"
      ],
      "metadata": {
        "id": "CZaJzBs4aISb"
      },
      "execution_count": 374,
      "outputs": []
    },
    {
      "cell_type": "code",
      "source": [
        "# cek missing value\n",
        "df.select([count(when(isnan(c),c)).alias(c) for c in df.columns]).toPandas().head() "
      ],
      "metadata": {
        "colab": {
          "base_uri": "https://localhost:8080/",
          "height": 81
        },
        "id": "LoxDhw8yaNTm",
        "outputId": "aba6c3f8-6e0e-470f-dfa7-b538e0729321"
      },
      "execution_count": 375,
      "outputs": [
        {
          "output_type": "execute_result",
          "data": {
            "text/plain": [
              "   Pregnancies  Glucose  BloodPressure  SkinThickness  Insulin  BMI  \\\n",
              "0            0        0              0              0        0    0   \n",
              "\n",
              "   DiabetesPedigreeFunction  Age  Outcome  \n",
              "0                         0    0        0  "
            ],
            "text/html": [
              "\n",
              "  <div id=\"df-9b28a302-0288-4b99-9a65-c17ba5dc8d5e\">\n",
              "    <div class=\"colab-df-container\">\n",
              "      <div>\n",
              "<style scoped>\n",
              "    .dataframe tbody tr th:only-of-type {\n",
              "        vertical-align: middle;\n",
              "    }\n",
              "\n",
              "    .dataframe tbody tr th {\n",
              "        vertical-align: top;\n",
              "    }\n",
              "\n",
              "    .dataframe thead th {\n",
              "        text-align: right;\n",
              "    }\n",
              "</style>\n",
              "<table border=\"1\" class=\"dataframe\">\n",
              "  <thead>\n",
              "    <tr style=\"text-align: right;\">\n",
              "      <th></th>\n",
              "      <th>Pregnancies</th>\n",
              "      <th>Glucose</th>\n",
              "      <th>BloodPressure</th>\n",
              "      <th>SkinThickness</th>\n",
              "      <th>Insulin</th>\n",
              "      <th>BMI</th>\n",
              "      <th>DiabetesPedigreeFunction</th>\n",
              "      <th>Age</th>\n",
              "      <th>Outcome</th>\n",
              "    </tr>\n",
              "  </thead>\n",
              "  <tbody>\n",
              "    <tr>\n",
              "      <th>0</th>\n",
              "      <td>0</td>\n",
              "      <td>0</td>\n",
              "      <td>0</td>\n",
              "      <td>0</td>\n",
              "      <td>0</td>\n",
              "      <td>0</td>\n",
              "      <td>0</td>\n",
              "      <td>0</td>\n",
              "      <td>0</td>\n",
              "    </tr>\n",
              "  </tbody>\n",
              "</table>\n",
              "</div>\n",
              "      <button class=\"colab-df-convert\" onclick=\"convertToInteractive('df-9b28a302-0288-4b99-9a65-c17ba5dc8d5e')\"\n",
              "              title=\"Convert this dataframe to an interactive table.\"\n",
              "              style=\"display:none;\">\n",
              "        \n",
              "  <svg xmlns=\"http://www.w3.org/2000/svg\" height=\"24px\"viewBox=\"0 0 24 24\"\n",
              "       width=\"24px\">\n",
              "    <path d=\"M0 0h24v24H0V0z\" fill=\"none\"/>\n",
              "    <path d=\"M18.56 5.44l.94 2.06.94-2.06 2.06-.94-2.06-.94-.94-2.06-.94 2.06-2.06.94zm-11 1L8.5 8.5l.94-2.06 2.06-.94-2.06-.94L8.5 2.5l-.94 2.06-2.06.94zm10 10l.94 2.06.94-2.06 2.06-.94-2.06-.94-.94-2.06-.94 2.06-2.06.94z\"/><path d=\"M17.41 7.96l-1.37-1.37c-.4-.4-.92-.59-1.43-.59-.52 0-1.04.2-1.43.59L10.3 9.45l-7.72 7.72c-.78.78-.78 2.05 0 2.83L4 21.41c.39.39.9.59 1.41.59.51 0 1.02-.2 1.41-.59l7.78-7.78 2.81-2.81c.8-.78.8-2.07 0-2.86zM5.41 20L4 18.59l7.72-7.72 1.47 1.35L5.41 20z\"/>\n",
              "  </svg>\n",
              "      </button>\n",
              "      \n",
              "  <style>\n",
              "    .colab-df-container {\n",
              "      display:flex;\n",
              "      flex-wrap:wrap;\n",
              "      gap: 12px;\n",
              "    }\n",
              "\n",
              "    .colab-df-convert {\n",
              "      background-color: #E8F0FE;\n",
              "      border: none;\n",
              "      border-radius: 50%;\n",
              "      cursor: pointer;\n",
              "      display: none;\n",
              "      fill: #1967D2;\n",
              "      height: 32px;\n",
              "      padding: 0 0 0 0;\n",
              "      width: 32px;\n",
              "    }\n",
              "\n",
              "    .colab-df-convert:hover {\n",
              "      background-color: #E2EBFA;\n",
              "      box-shadow: 0px 1px 2px rgba(60, 64, 67, 0.3), 0px 1px 3px 1px rgba(60, 64, 67, 0.15);\n",
              "      fill: #174EA6;\n",
              "    }\n",
              "\n",
              "    [theme=dark] .colab-df-convert {\n",
              "      background-color: #3B4455;\n",
              "      fill: #D2E3FC;\n",
              "    }\n",
              "\n",
              "    [theme=dark] .colab-df-convert:hover {\n",
              "      background-color: #434B5C;\n",
              "      box-shadow: 0px 1px 3px 1px rgba(0, 0, 0, 0.15);\n",
              "      filter: drop-shadow(0px 1px 2px rgba(0, 0, 0, 0.3));\n",
              "      fill: #FFFFFF;\n",
              "    }\n",
              "  </style>\n",
              "\n",
              "      <script>\n",
              "        const buttonEl =\n",
              "          document.querySelector('#df-9b28a302-0288-4b99-9a65-c17ba5dc8d5e button.colab-df-convert');\n",
              "        buttonEl.style.display =\n",
              "          google.colab.kernel.accessAllowed ? 'block' : 'none';\n",
              "\n",
              "        async function convertToInteractive(key) {\n",
              "          const element = document.querySelector('#df-9b28a302-0288-4b99-9a65-c17ba5dc8d5e');\n",
              "          const dataTable =\n",
              "            await google.colab.kernel.invokeFunction('convertToInteractive',\n",
              "                                                     [key], {});\n",
              "          if (!dataTable) return;\n",
              "\n",
              "          const docLinkHtml = 'Like what you see? Visit the ' +\n",
              "            '<a target=\"_blank\" href=https://colab.research.google.com/notebooks/data_table.ipynb>data table notebook</a>'\n",
              "            + ' to learn more about interactive tables.';\n",
              "          element.innerHTML = '';\n",
              "          dataTable['output_type'] = 'display_data';\n",
              "          await google.colab.output.renderOutput(dataTable, element);\n",
              "          const docLink = document.createElement('div');\n",
              "          docLink.innerHTML = docLinkHtml;\n",
              "          element.appendChild(docLink);\n",
              "        }\n",
              "      </script>\n",
              "    </div>\n",
              "  </div>\n",
              "  "
            ]
          },
          "metadata": {},
          "execution_count": 375
        }
      ]
    },
    {
      "cell_type": "markdown",
      "source": [
        "# User Defined Functions (UDF)"
      ],
      "metadata": {
        "id": "P5BtM-10amVi"
      }
    },
    {
      "cell_type": "markdown",
      "source": [
        "UDF digunakan untuk memperluas fungsi dari framework dan menggunakan kembali fungsi tersebut pada beberapa DataFrame. \n",
        "\n",
        "Pada PySpark, user membuat fungsi dalam sintaks Python dan membungkusnya dengan PySpark SQL **udf()** atau mendaftarkannya sebagai udf dan menggunakannya masing-masing pada DataFrame dan SQL."
      ],
      "metadata": {
        "id": "6z1fgbeSieGi"
      }
    },
    {
      "cell_type": "code",
      "source": [
        "from pyspark.sql.functions import udf\n",
        "from pyspark.sql.types import StringType"
      ],
      "metadata": {
        "id": "aDej5BiSasEv"
      },
      "execution_count": 376,
      "outputs": []
    },
    {
      "cell_type": "markdown",
      "source": [
        "y_udf adalah variabel yang meyimpan nilai yes atau no dengan tipe data string. nantinya variabel ini akan menggantikan kolom Outcome yang bertipe data integer dan bernilai 1 dan 0."
      ],
      "metadata": {
        "id": "4k9kCF7LjhUe"
      }
    },
    {
      "cell_type": "code",
      "source": [
        "y_udf = udf(lambda y: \"no\" if y == 0 else \"yes\", StringType())"
      ],
      "metadata": {
        "id": "F13AOLP4avEy"
      },
      "execution_count": 377,
      "outputs": []
    },
    {
      "cell_type": "markdown",
      "source": [
        "Kolom \"Outcome\" digantikan dengan kolom \"HasDiabetes\". Kolom \"HasDiabetes\" ini merupakan user defined function yaitu variabel y_udf yang telah dibuat sebelumnya. \n",
        "\n",
        "Sehingga kolom outcome sudah tidak ada lagi, karena digantikan dengan HasDiabetes. Lalu, value dari kolom ini sudah bukan 1 dan 0 lagi, melainkan yes atau no. Ini menunjukkan, jika Yes berarti positif diabetes, dan jika No berarti negatif diabetes. Ini mempermudah dalam pemahaman pembacaan data tabel."
      ],
      "metadata": {
        "id": "aCoRKYFIjtmW"
      }
    },
    {
      "cell_type": "code",
      "source": [
        "df = df.withColumn(\"HasDiabetes\",y_udf('Outcome')).drop(\"Outcome\")"
      ],
      "metadata": {
        "id": "T_3A5feEaw0Y"
      },
      "execution_count": 378,
      "outputs": []
    },
    {
      "cell_type": "code",
      "source": [
        "df.show(5)"
      ],
      "metadata": {
        "colab": {
          "base_uri": "https://localhost:8080/"
        },
        "id": "MfvYY2aeaygQ",
        "outputId": "b210e0f9-c6d1-4084-e18a-44bd5d636305"
      },
      "execution_count": 379,
      "outputs": [
        {
          "output_type": "stream",
          "name": "stdout",
          "text": [
            "+-----------+-------+-------------+-------------+-------+----+------------------------+---+-----------+\n",
            "|Pregnancies|Glucose|BloodPressure|SkinThickness|Insulin| BMI|DiabetesPedigreeFunction|Age|HasDiabetes|\n",
            "+-----------+-------+-------------+-------------+-------+----+------------------------+---+-----------+\n",
            "|          6|    148|           72|           35|      0|33.6|                   0.627| 50|        yes|\n",
            "|          1|     85|           66|           29|      0|26.6|                   0.351| 31|         no|\n",
            "|          8|    183|           64|            0|      0|23.3|                   0.672| 32|        yes|\n",
            "|          1|     89|           66|           23|     94|28.1|                   0.167| 21|         no|\n",
            "|          0|    137|           40|           35|    168|43.1|                   2.288| 33|        yes|\n",
            "+-----------+-------+-------------+-------------+-------+----+------------------------+---+-----------+\n",
            "only showing top 5 rows\n",
            "\n"
          ]
        }
      ]
    },
    {
      "cell_type": "markdown",
      "source": [
        "Selanjutnya, yang akan dibuat adalah grouping berdasarkan kolom Age yang ada pada dataset. Seperti yang dapat dilihat pada visualisasi distribusi data sebelumnya, kita mendapatkan hasil distribusi data pada kolom age memiliki ketidaksimetrisan yang konstan, sehingga fitur Age ini yang akan dilakukan grouping dengan mendefinisikan fungsi baru yaitu **udf_multi** sekaligus sebagai fitur yang akan digunakan untuk memprediksi diabetes."
      ],
      "metadata": {
        "id": "1bURG3ixlR7O"
      }
    },
    {
      "cell_type": "code",
      "source": [
        "def udf_multi(age):\n",
        "  if (age < 25):\n",
        "    return \"Dibawah 25 tahun\"\n",
        "  elif (age >=25 and age <= 35):\n",
        "    return \"25 - 35 tahun\"\n",
        "  elif (age >= 36 and age <= 50):\n",
        "    return \"36 - 50 tahun\"\n",
        "  elif (age > 50):\n",
        "    return \"Lebih dari 50 tahun\"\n",
        "  else: return \"NA\""
      ],
      "metadata": {
        "id": "1TA8T2oea0Ew"
      },
      "execution_count": 380,
      "outputs": []
    },
    {
      "cell_type": "markdown",
      "source": [
        "Fungsi **udf_multi** lalu dimasukkan ke dalam dataframe dengan nama kolom baru yaitu \"**age_udf**\", kolom ini mengambil value dari kolom Age."
      ],
      "metadata": {
        "id": "VVaUc_93n6aN"
      }
    },
    {
      "cell_type": "code",
      "source": [
        "age_udf = udf(udf_multi)\n",
        "df = df.withColumn('age_udf', age_udf('Age'))\n"
      ],
      "metadata": {
        "id": "cOiMrT2da2yg"
      },
      "execution_count": 381,
      "outputs": []
    },
    {
      "cell_type": "code",
      "source": [
        "# hasil dataframe\n",
        "df.show(10)"
      ],
      "metadata": {
        "colab": {
          "base_uri": "https://localhost:8080/"
        },
        "id": "z-e-fR11a4gJ",
        "outputId": "9e995aa8-a6e9-424e-c6a2-ced282bce98a"
      },
      "execution_count": 382,
      "outputs": [
        {
          "output_type": "stream",
          "name": "stdout",
          "text": [
            "+-----------+-------+-------------+-------------+-------+----+------------------------+---+-----------+-------------------+\n",
            "|Pregnancies|Glucose|BloodPressure|SkinThickness|Insulin| BMI|DiabetesPedigreeFunction|Age|HasDiabetes|            age_udf|\n",
            "+-----------+-------+-------------+-------------+-------+----+------------------------+---+-----------+-------------------+\n",
            "|          6|    148|           72|           35|      0|33.6|                   0.627| 50|        yes|      36 - 50 tahun|\n",
            "|          1|     85|           66|           29|      0|26.6|                   0.351| 31|         no|      25 - 35 tahun|\n",
            "|          8|    183|           64|            0|      0|23.3|                   0.672| 32|        yes|      25 - 35 tahun|\n",
            "|          1|     89|           66|           23|     94|28.1|                   0.167| 21|         no|   Dibawah 25 tahun|\n",
            "|          0|    137|           40|           35|    168|43.1|                   2.288| 33|        yes|      25 - 35 tahun|\n",
            "|          5|    116|           74|            0|      0|25.6|                   0.201| 30|         no|      25 - 35 tahun|\n",
            "|          3|     78|           50|           32|     88|31.0|                   0.248| 26|        yes|      25 - 35 tahun|\n",
            "|         10|    115|            0|            0|      0|35.3|                   0.134| 29|         no|      25 - 35 tahun|\n",
            "|          2|    197|           70|           45|    543|30.5|                   0.158| 53|        yes|Lebih dari 50 tahun|\n",
            "|          8|    125|           96|            0|      0| 0.0|                   0.232| 54|        yes|Lebih dari 50 tahun|\n",
            "+-----------+-------+-------------+-------------+-------+----+------------------------+---+-----------+-------------------+\n",
            "only showing top 10 rows\n",
            "\n"
          ]
        }
      ]
    },
    {
      "cell_type": "code",
      "source": [
        "from pyspark.sql import functions as F \n",
        "from pyspark.sql.functions import rank, sum, desc \n",
        "from pyspark.sql import Window"
      ],
      "metadata": {
        "id": "e7_Zg2naa6rc"
      },
      "execution_count": 383,
      "outputs": []
    },
    {
      "cell_type": "code",
      "source": [
        "window = Window.rowsBetween(Window.unboundedPreceding, Window.unboundedFollowing)"
      ],
      "metadata": {
        "id": "-DLpoQMEa8mZ"
      },
      "execution_count": 384,
      "outputs": []
    },
    {
      "cell_type": "markdown",
      "source": [
        "Membuat tabel baru dengan meng-select kolom age_udf dan kolom Glucose dan digroup berdasarkan value pada kolom age_udf. \n",
        "\n",
        "Pada tabel baru ini, akan dibuat beberapa kolom baru yang diambil berdasarkan perhitungan statistik dari kolom Glucose. Kolom baru tersebut diberi nama alias untuk masing-masing kolomnya sesuai dengan statistik yang berkaitan.\n",
        "\n",
        "F.Count('Glucose').alias('UserCount') = menghitung jumlah data yang ada pada kolom Glucose berdasarkan age_udf, dan nilai tersebut akan dimasukkan kedalam kolom baru dengan nama alias UserCount yang artinya adalah jumlah orang yang dikategorikan berdasarkan age_udf tersebut.\n",
        "\n",
        "F.mean('Glucose').alias('Glucose_AVG') = menghitung jumlah rata-rata yang ada pada kolom Glucose berdasarkan age_udf.\n",
        "\n",
        "F.min('Glucose').alias('Glucose_MIN') = menghitung nilai minimal glukosa yang \n",
        "ada pada kolom Glucose berdasarkan age_udf.\n",
        "\n",
        "F.max('Glucose').alias('Glucose_MAX') = menghitung nilai maksimal glukosa yang ada pada kolom Glucose berdasarkan age_udf.\n",
        "\n",
        "Lalu, dibuat kolom Percent, yang menyimpan hasil UserCount dikali 100 lalu dibagi kolom total. Setelah itu tabel ini akan di sorting berdasarkan nilai Percent secara descending."
      ],
      "metadata": {
        "id": "l0PBVGkHtSwn"
      }
    },
    {
      "cell_type": "code",
      "source": [
        "age_group_tab = df.select([\"age_udf\",\"Glucose\"]).\\\n",
        "                      groupBy('age_udf').\\\n",
        "                          agg(\n",
        "                              F.count('Glucose').alias('UserCount'),\n",
        "                              F.mean('Glucose').alias('Glucose_AVG'),\n",
        "                              F.min('Glucose').alias('Glucose_MIN'),\n",
        "                              F.max('Glucose').alias('Glucose_MAX')).\\\n",
        "                          withColumn('total', sum(col('UserCount')).over(window)).\\\n",
        "                          withColumn('Percent', col('UserCount')*100 / col('total')).\\\n",
        "                          drop(col('total')).sort(desc('Percent'))"
      ],
      "metadata": {
        "id": "RAxX6CCSa-8V"
      },
      "execution_count": 385,
      "outputs": []
    },
    {
      "cell_type": "markdown",
      "source": [
        "Dihasilkan persentase paling tinggi (Jumlah UserCount) terdapat pada range umur 25-35 tahun."
      ],
      "metadata": {
        "id": "IXfDW9ZswR9i"
      }
    },
    {
      "cell_type": "code",
      "source": [
        "age_group_tab.toPandas()"
      ],
      "metadata": {
        "colab": {
          "base_uri": "https://localhost:8080/",
          "height": 175
        },
        "id": "xRRnKd-obBGQ",
        "outputId": "50da1e67-6a4a-4e63-98c6-f443c5fd094a"
      },
      "execution_count": 386,
      "outputs": [
        {
          "output_type": "execute_result",
          "data": {
            "text/plain": [
              "               age_udf  UserCount  Glucose_AVG  Glucose_MIN  Glucose_MAX  \\\n",
              "0        25 - 35 tahun        279   119.677419           68          198   \n",
              "1     Dibawah 25 tahun        219   110.858447            0          199   \n",
              "2        36 - 50 tahun        189   126.269841            0          197   \n",
              "3  Lebih dari 50 tahun         81   139.679012           57          197   \n",
              "\n",
              "     Percent  \n",
              "0  36.328125  \n",
              "1  28.515625  \n",
              "2  24.609375  \n",
              "3  10.546875  "
            ],
            "text/html": [
              "\n",
              "  <div id=\"df-5165fe60-bfda-4cdb-ad79-b5a80f5f0b4d\">\n",
              "    <div class=\"colab-df-container\">\n",
              "      <div>\n",
              "<style scoped>\n",
              "    .dataframe tbody tr th:only-of-type {\n",
              "        vertical-align: middle;\n",
              "    }\n",
              "\n",
              "    .dataframe tbody tr th {\n",
              "        vertical-align: top;\n",
              "    }\n",
              "\n",
              "    .dataframe thead th {\n",
              "        text-align: right;\n",
              "    }\n",
              "</style>\n",
              "<table border=\"1\" class=\"dataframe\">\n",
              "  <thead>\n",
              "    <tr style=\"text-align: right;\">\n",
              "      <th></th>\n",
              "      <th>age_udf</th>\n",
              "      <th>UserCount</th>\n",
              "      <th>Glucose_AVG</th>\n",
              "      <th>Glucose_MIN</th>\n",
              "      <th>Glucose_MAX</th>\n",
              "      <th>Percent</th>\n",
              "    </tr>\n",
              "  </thead>\n",
              "  <tbody>\n",
              "    <tr>\n",
              "      <th>0</th>\n",
              "      <td>25 - 35 tahun</td>\n",
              "      <td>279</td>\n",
              "      <td>119.677419</td>\n",
              "      <td>68</td>\n",
              "      <td>198</td>\n",
              "      <td>36.328125</td>\n",
              "    </tr>\n",
              "    <tr>\n",
              "      <th>1</th>\n",
              "      <td>Dibawah 25 tahun</td>\n",
              "      <td>219</td>\n",
              "      <td>110.858447</td>\n",
              "      <td>0</td>\n",
              "      <td>199</td>\n",
              "      <td>28.515625</td>\n",
              "    </tr>\n",
              "    <tr>\n",
              "      <th>2</th>\n",
              "      <td>36 - 50 tahun</td>\n",
              "      <td>189</td>\n",
              "      <td>126.269841</td>\n",
              "      <td>0</td>\n",
              "      <td>197</td>\n",
              "      <td>24.609375</td>\n",
              "    </tr>\n",
              "    <tr>\n",
              "      <th>3</th>\n",
              "      <td>Lebih dari 50 tahun</td>\n",
              "      <td>81</td>\n",
              "      <td>139.679012</td>\n",
              "      <td>57</td>\n",
              "      <td>197</td>\n",
              "      <td>10.546875</td>\n",
              "    </tr>\n",
              "  </tbody>\n",
              "</table>\n",
              "</div>\n",
              "      <button class=\"colab-df-convert\" onclick=\"convertToInteractive('df-5165fe60-bfda-4cdb-ad79-b5a80f5f0b4d')\"\n",
              "              title=\"Convert this dataframe to an interactive table.\"\n",
              "              style=\"display:none;\">\n",
              "        \n",
              "  <svg xmlns=\"http://www.w3.org/2000/svg\" height=\"24px\"viewBox=\"0 0 24 24\"\n",
              "       width=\"24px\">\n",
              "    <path d=\"M0 0h24v24H0V0z\" fill=\"none\"/>\n",
              "    <path d=\"M18.56 5.44l.94 2.06.94-2.06 2.06-.94-2.06-.94-.94-2.06-.94 2.06-2.06.94zm-11 1L8.5 8.5l.94-2.06 2.06-.94-2.06-.94L8.5 2.5l-.94 2.06-2.06.94zm10 10l.94 2.06.94-2.06 2.06-.94-2.06-.94-.94-2.06-.94 2.06-2.06.94z\"/><path d=\"M17.41 7.96l-1.37-1.37c-.4-.4-.92-.59-1.43-.59-.52 0-1.04.2-1.43.59L10.3 9.45l-7.72 7.72c-.78.78-.78 2.05 0 2.83L4 21.41c.39.39.9.59 1.41.59.51 0 1.02-.2 1.41-.59l7.78-7.78 2.81-2.81c.8-.78.8-2.07 0-2.86zM5.41 20L4 18.59l7.72-7.72 1.47 1.35L5.41 20z\"/>\n",
              "  </svg>\n",
              "      </button>\n",
              "      \n",
              "  <style>\n",
              "    .colab-df-container {\n",
              "      display:flex;\n",
              "      flex-wrap:wrap;\n",
              "      gap: 12px;\n",
              "    }\n",
              "\n",
              "    .colab-df-convert {\n",
              "      background-color: #E8F0FE;\n",
              "      border: none;\n",
              "      border-radius: 50%;\n",
              "      cursor: pointer;\n",
              "      display: none;\n",
              "      fill: #1967D2;\n",
              "      height: 32px;\n",
              "      padding: 0 0 0 0;\n",
              "      width: 32px;\n",
              "    }\n",
              "\n",
              "    .colab-df-convert:hover {\n",
              "      background-color: #E2EBFA;\n",
              "      box-shadow: 0px 1px 2px rgba(60, 64, 67, 0.3), 0px 1px 3px 1px rgba(60, 64, 67, 0.15);\n",
              "      fill: #174EA6;\n",
              "    }\n",
              "\n",
              "    [theme=dark] .colab-df-convert {\n",
              "      background-color: #3B4455;\n",
              "      fill: #D2E3FC;\n",
              "    }\n",
              "\n",
              "    [theme=dark] .colab-df-convert:hover {\n",
              "      background-color: #434B5C;\n",
              "      box-shadow: 0px 1px 3px 1px rgba(0, 0, 0, 0.15);\n",
              "      filter: drop-shadow(0px 1px 2px rgba(0, 0, 0, 0.3));\n",
              "      fill: #FFFFFF;\n",
              "    }\n",
              "  </style>\n",
              "\n",
              "      <script>\n",
              "        const buttonEl =\n",
              "          document.querySelector('#df-5165fe60-bfda-4cdb-ad79-b5a80f5f0b4d button.colab-df-convert');\n",
              "        buttonEl.style.display =\n",
              "          google.colab.kernel.accessAllowed ? 'block' : 'none';\n",
              "\n",
              "        async function convertToInteractive(key) {\n",
              "          const element = document.querySelector('#df-5165fe60-bfda-4cdb-ad79-b5a80f5f0b4d');\n",
              "          const dataTable =\n",
              "            await google.colab.kernel.invokeFunction('convertToInteractive',\n",
              "                                                     [key], {});\n",
              "          if (!dataTable) return;\n",
              "\n",
              "          const docLinkHtml = 'Like what you see? Visit the ' +\n",
              "            '<a target=\"_blank\" href=https://colab.research.google.com/notebooks/data_table.ipynb>data table notebook</a>'\n",
              "            + ' to learn more about interactive tables.';\n",
              "          element.innerHTML = '';\n",
              "          dataTable['output_type'] = 'display_data';\n",
              "          await google.colab.output.renderOutput(dataTable, element);\n",
              "          const docLink = document.createElement('div');\n",
              "          docLink.innerHTML = docLinkHtml;\n",
              "          element.appendChild(docLink);\n",
              "        }\n",
              "      </script>\n",
              "    </div>\n",
              "  </div>\n",
              "  "
            ]
          },
          "metadata": {},
          "execution_count": 386
        }
      ]
    },
    {
      "cell_type": "markdown",
      "source": [
        "Visualisasi dalam bentuk *bar chart*"
      ],
      "metadata": {
        "id": "5hbFyv6aOI-u"
      }
    },
    {
      "cell_type": "code",
      "source": [
        "sns.barplot(x=\"age_udf\", y=\"Percent\",data=age_group_tab.toPandas());"
      ],
      "metadata": {
        "colab": {
          "base_uri": "https://localhost:8080/",
          "height": 280
        },
        "id": "FSHth7EdbCnm",
        "outputId": "aab0bb72-bd92-4fec-bf50-5b74f615c916"
      },
      "execution_count": 387,
      "outputs": [
        {
          "output_type": "display_data",
          "data": {
            "text/plain": [
              "<Figure size 432x288 with 1 Axes>"
            ],
            "image/png": "[encoded data removed]"
          },
          "metadata": {
            "needs_background": "light"
          }
        }
      ]
    },
    {
      "cell_type": "markdown",
      "source": [
        "Visualisasi dalam bentuk *pie chart*"
      ],
      "metadata": {
        "id": "dzLV-THTOLy9"
      }
    },
    {
      "cell_type": "code",
      "source": [
        "labels = list(age_group_tab.select('age_udf').distinct().toPandas()['age_udf'])\n",
        "sizes = list(age_group_tab.select('Percent').distinct().toPandas()['Percent'])\n",
        "colors = ['blue','orange','green','red']\n",
        "explode = (0.0, 0.1, 0.0, 0.0)\n",
        "\n",
        "plt.figure(figsize=(10,8))\n",
        "plt.pie(sizes, explode=explode, labels=labels, colors=colors, autopct='%1.1f%%', \n",
        "        shadow=False, startangle=140)\n",
        "plt.axis('equal')\n",
        "plt.show()"
      ],
      "metadata": {
        "colab": {
          "base_uri": "https://localhost:8080/",
          "height": 469
        },
        "id": "Uy8CO8IXH78K",
        "outputId": "35272a46-7730-48f4-fbd2-8bef3ff85906"
      },
      "execution_count": 388,
      "outputs": [
        {
          "output_type": "display_data",
          "data": {
            "text/plain": [
              "<Figure size 720x576 with 1 Axes>"
            ],
            "image/png": "[encoded data removed]"
          },
          "metadata": {}
        }
      ]
    },
    {
      "cell_type": "markdown",
      "source": [
        "# Menghitung Korelasi antar Fitur"
      ],
      "metadata": {
        "id": "yy9LdZEJC1mB"
      }
    },
    {
      "cell_type": "code",
      "source": [
        "df.printSchema()"
      ],
      "metadata": {
        "colab": {
          "base_uri": "https://localhost:8080/"
        },
        "id": "cpO1gnuTDJ6v",
        "outputId": "7cf4fe35-4da0-41e7-ecc2-2c0d2525ee6d"
      },
      "execution_count": 389,
      "outputs": [
        {
          "output_type": "stream",
          "name": "stdout",
          "text": [
            "root\n",
            " |-- Pregnancies: integer (nullable = true)\n",
            " |-- Glucose: integer (nullable = true)\n",
            " |-- BloodPressure: integer (nullable = true)\n",
            " |-- SkinThickness: integer (nullable = true)\n",
            " |-- Insulin: integer (nullable = true)\n",
            " |-- BMI: double (nullable = true)\n",
            " |-- DiabetesPedigreeFunction: double (nullable = true)\n",
            " |-- Age: integer (nullable = true)\n",
            " |-- HasDiabetes: string (nullable = true)\n",
            " |-- age_udf: string (nullable = true)\n",
            "\n"
          ]
        }
      ]
    },
    {
      "cell_type": "markdown",
      "source": [
        "dari output df.printSchema() terdapat 2 fitur yang bertipe data string yaitu HasDiabetes dan age_udf, dikarenakan perhitungan korelasi harus data yang bertipe numerik, maka untuk 2 fitur tersebut tidak akan dilakukan perhitungan korelasi. \n",
        "\n",
        "Selanjutnya akan diambil fitur yang tipe datanya hanya numerik."
      ],
      "metadata": {
        "id": "657V6WBjDkMa"
      }
    },
    {
      "cell_type": "code",
      "source": [
        "# ambil hanya yang tipe datanya numerik\n",
        "\n",
        "numeric_features = [t[0] for t in df.dtypes if t[1] !='string']\n",
        "numeric_features_df = df.select(numeric_features)\n",
        "numeric_features_df.toPandas().head()"
      ],
      "metadata": {
        "colab": {
          "base_uri": "https://localhost:8080/",
          "height": 206
        },
        "id": "LDm-IFTmbFRH",
        "outputId": "55637e4f-f80a-4610-da41-3c2e8113bb93"
      },
      "execution_count": 390,
      "outputs": [
        {
          "output_type": "execute_result",
          "data": {
            "text/plain": [
              "   Pregnancies  Glucose  BloodPressure  SkinThickness  Insulin   BMI  \\\n",
              "0            6      148             72             35        0  33.6   \n",
              "1            1       85             66             29        0  26.6   \n",
              "2            8      183             64              0        0  23.3   \n",
              "3            1       89             66             23       94  28.1   \n",
              "4            0      137             40             35      168  43.1   \n",
              "\n",
              "   DiabetesPedigreeFunction  Age  \n",
              "0                     0.627   50  \n",
              "1                     0.351   31  \n",
              "2                     0.672   32  \n",
              "3                     0.167   21  \n",
              "4                     2.288   33  "
            ],
            "text/html": [
              "\n",
              "  <div id=\"df-0f7af57c-48fa-440b-a9fb-741ba35ec6b4\">\n",
              "    <div class=\"colab-df-container\">\n",
              "      <div>\n",
              "<style scoped>\n",
              "    .dataframe tbody tr th:only-of-type {\n",
              "        vertical-align: middle;\n",
              "    }\n",
              "\n",
              "    .dataframe tbody tr th {\n",
              "        vertical-align: top;\n",
              "    }\n",
              "\n",
              "    .dataframe thead th {\n",
              "        text-align: right;\n",
              "    }\n",
              "</style>\n",
              "<table border=\"1\" class=\"dataframe\">\n",
              "  <thead>\n",
              "    <tr style=\"text-align: right;\">\n",
              "      <th></th>\n",
              "      <th>Pregnancies</th>\n",
              "      <th>Glucose</th>\n",
              "      <th>BloodPressure</th>\n",
              "      <th>SkinThickness</th>\n",
              "      <th>Insulin</th>\n",
              "      <th>BMI</th>\n",
              "      <th>DiabetesPedigreeFunction</th>\n",
              "      <th>Age</th>\n",
              "    </tr>\n",
              "  </thead>\n",
              "  <tbody>\n",
              "    <tr>\n",
              "      <th>0</th>\n",
              "      <td>6</td>\n",
              "      <td>148</td>\n",
              "      <td>72</td>\n",
              "      <td>35</td>\n",
              "      <td>0</td>\n",
              "      <td>33.6</td>\n",
              "      <td>0.627</td>\n",
              "      <td>50</td>\n",
              "    </tr>\n",
              "    <tr>\n",
              "      <th>1</th>\n",
              "      <td>1</td>\n",
              "      <td>85</td>\n",
              "      <td>66</td>\n",
              "      <td>29</td>\n",
              "      <td>0</td>\n",
              "      <td>26.6</td>\n",
              "      <td>0.351</td>\n",
              "      <td>31</td>\n",
              "    </tr>\n",
              "    <tr>\n",
              "      <th>2</th>\n",
              "      <td>8</td>\n",
              "      <td>183</td>\n",
              "      <td>64</td>\n",
              "      <td>0</td>\n",
              "      <td>0</td>\n",
              "      <td>23.3</td>\n",
              "      <td>0.672</td>\n",
              "      <td>32</td>\n",
              "    </tr>\n",
              "    <tr>\n",
              "      <th>3</th>\n",
              "      <td>1</td>\n",
              "      <td>89</td>\n",
              "      <td>66</td>\n",
              "      <td>23</td>\n",
              "      <td>94</td>\n",
              "      <td>28.1</td>\n",
              "      <td>0.167</td>\n",
              "      <td>21</td>\n",
              "    </tr>\n",
              "    <tr>\n",
              "      <th>4</th>\n",
              "      <td>0</td>\n",
              "      <td>137</td>\n",
              "      <td>40</td>\n",
              "      <td>35</td>\n",
              "      <td>168</td>\n",
              "      <td>43.1</td>\n",
              "      <td>2.288</td>\n",
              "      <td>33</td>\n",
              "    </tr>\n",
              "  </tbody>\n",
              "</table>\n",
              "</div>\n",
              "      <button class=\"colab-df-convert\" onclick=\"convertToInteractive('df-0f7af57c-48fa-440b-a9fb-741ba35ec6b4')\"\n",
              "              title=\"Convert this dataframe to an interactive table.\"\n",
              "              style=\"display:none;\">\n",
              "        \n",
              "  <svg xmlns=\"http://www.w3.org/2000/svg\" height=\"24px\"viewBox=\"0 0 24 24\"\n",
              "       width=\"24px\">\n",
              "    <path d=\"M0 0h24v24H0V0z\" fill=\"none\"/>\n",
              "    <path d=\"M18.56 5.44l.94 2.06.94-2.06 2.06-.94-2.06-.94-.94-2.06-.94 2.06-2.06.94zm-11 1L8.5 8.5l.94-2.06 2.06-.94-2.06-.94L8.5 2.5l-.94 2.06-2.06.94zm10 10l.94 2.06.94-2.06 2.06-.94-2.06-.94-.94-2.06-.94 2.06-2.06.94z\"/><path d=\"M17.41 7.96l-1.37-1.37c-.4-.4-.92-.59-1.43-.59-.52 0-1.04.2-1.43.59L10.3 9.45l-7.72 7.72c-.78.78-.78 2.05 0 2.83L4 21.41c.39.39.9.59 1.41.59.51 0 1.02-.2 1.41-.59l7.78-7.78 2.81-2.81c.8-.78.8-2.07 0-2.86zM5.41 20L4 18.59l7.72-7.72 1.47 1.35L5.41 20z\"/>\n",
              "  </svg>\n",
              "      </button>\n",
              "      \n",
              "  <style>\n",
              "    .colab-df-container {\n",
              "      display:flex;\n",
              "      flex-wrap:wrap;\n",
              "      gap: 12px;\n",
              "    }\n",
              "\n",
              "    .colab-df-convert {\n",
              "      background-color: #E8F0FE;\n",
              "      border: none;\n",
              "      border-radius: 50%;\n",
              "      cursor: pointer;\n",
              "      display: none;\n",
              "      fill: #1967D2;\n",
              "      height: 32px;\n",
              "      padding: 0 0 0 0;\n",
              "      width: 32px;\n",
              "    }\n",
              "\n",
              "    .colab-df-convert:hover {\n",
              "      background-color: #E2EBFA;\n",
              "      box-shadow: 0px 1px 2px rgba(60, 64, 67, 0.3), 0px 1px 3px 1px rgba(60, 64, 67, 0.15);\n",
              "      fill: #174EA6;\n",
              "    }\n",
              "\n",
              "    [theme=dark] .colab-df-convert {\n",
              "      background-color: #3B4455;\n",
              "      fill: #D2E3FC;\n",
              "    }\n",
              "\n",
              "    [theme=dark] .colab-df-convert:hover {\n",
              "      background-color: #434B5C;\n",
              "      box-shadow: 0px 1px 3px 1px rgba(0, 0, 0, 0.15);\n",
              "      filter: drop-shadow(0px 1px 2px rgba(0, 0, 0, 0.3));\n",
              "      fill: #FFFFFF;\n",
              "    }\n",
              "  </style>\n",
              "\n",
              "      <script>\n",
              "        const buttonEl =\n",
              "          document.querySelector('#df-0f7af57c-48fa-440b-a9fb-741ba35ec6b4 button.colab-df-convert');\n",
              "        buttonEl.style.display =\n",
              "          google.colab.kernel.accessAllowed ? 'block' : 'none';\n",
              "\n",
              "        async function convertToInteractive(key) {\n",
              "          const element = document.querySelector('#df-0f7af57c-48fa-440b-a9fb-741ba35ec6b4');\n",
              "          const dataTable =\n",
              "            await google.colab.kernel.invokeFunction('convertToInteractive',\n",
              "                                                     [key], {});\n",
              "          if (!dataTable) return;\n",
              "\n",
              "          const docLinkHtml = 'Like what you see? Visit the ' +\n",
              "            '<a target=\"_blank\" href=https://colab.research.google.com/notebooks/data_table.ipynb>data table notebook</a>'\n",
              "            + ' to learn more about interactive tables.';\n",
              "          element.innerHTML = '';\n",
              "          dataTable['output_type'] = 'display_data';\n",
              "          await google.colab.output.renderOutput(dataTable, element);\n",
              "          const docLink = document.createElement('div');\n",
              "          docLink.innerHTML = docLinkHtml;\n",
              "          element.appendChild(docLink);\n",
              "        }\n",
              "      </script>\n",
              "    </div>\n",
              "  </div>\n",
              "  "
            ]
          },
          "metadata": {},
          "execution_count": 390
        }
      ]
    },
    {
      "cell_type": "code",
      "source": [
        "col_names = numeric_features_df.columns\n",
        "features = numeric_features_df.rdd.map(lambda row: row[0:])"
      ],
      "metadata": {
        "id": "pEJMv82gbH7l"
      },
      "execution_count": 391,
      "outputs": []
    },
    {
      "cell_type": "code",
      "source": [
        "from pyspark.mllib.stat import Statistics\n",
        "import pandas as pd"
      ],
      "metadata": {
        "id": "bdBMyngBbKMy"
      },
      "execution_count": 392,
      "outputs": []
    },
    {
      "cell_type": "markdown",
      "source": [
        "Menghitung korelasi variabel dengan metode **Pearson Correlation**"
      ],
      "metadata": {
        "id": "CtZxe8helsk9"
      }
    },
    {
      "cell_type": "code",
      "source": [
        "corr_mat = Statistics.corr(features, method=\"pearson\")\n",
        "corr_df = pd.DataFrame(corr_mat)\n",
        "corr_df.index = col_names\n",
        "corr_df.columns = col_names\n",
        "round(corr_df, 2)"
      ],
      "metadata": {
        "colab": {
          "base_uri": "https://localhost:8080/",
          "height": 300
        },
        "id": "hJ8GqZcJbLvd",
        "outputId": "ccd25bc8-8720-45c2-a012-a4e68a49e991"
      },
      "execution_count": 393,
      "outputs": [
        {
          "output_type": "execute_result",
          "data": {
            "text/plain": [
              "                          Pregnancies  Glucose  BloodPressure  SkinThickness  \\\n",
              "Pregnancies                      1.00     0.13           0.14          -0.08   \n",
              "Glucose                          0.13     1.00           0.15           0.06   \n",
              "BloodPressure                    0.14     0.15           1.00           0.21   \n",
              "SkinThickness                   -0.08     0.06           0.21           1.00   \n",
              "Insulin                         -0.07     0.33           0.09           0.44   \n",
              "BMI                              0.02     0.22           0.28           0.39   \n",
              "DiabetesPedigreeFunction        -0.03     0.14           0.04           0.18   \n",
              "Age                              0.54     0.26           0.24          -0.11   \n",
              "\n",
              "                          Insulin   BMI  DiabetesPedigreeFunction   Age  \n",
              "Pregnancies                 -0.07  0.02                     -0.03  0.54  \n",
              "Glucose                      0.33  0.22                      0.14  0.26  \n",
              "BloodPressure                0.09  0.28                      0.04  0.24  \n",
              "SkinThickness                0.44  0.39                      0.18 -0.11  \n",
              "Insulin                      1.00  0.20                      0.19 -0.04  \n",
              "BMI                          0.20  1.00                      0.14  0.04  \n",
              "DiabetesPedigreeFunction     0.19  0.14                      1.00  0.03  \n",
              "Age                         -0.04  0.04                      0.03  1.00  "
            ],
            "text/html": [
              "\n",
              "  <div id=\"df-4a1370bf-f51a-4b69-a872-1db36846ba32\">\n",
              "    <div class=\"colab-df-container\">\n",
              "      <div>\n",
              "<style scoped>\n",
              "    .dataframe tbody tr th:only-of-type {\n",
              "        vertical-align: middle;\n",
              "    }\n",
              "\n",
              "    .dataframe tbody tr th {\n",
              "        vertical-align: top;\n",
              "    }\n",
              "\n",
              "    .dataframe thead th {\n",
              "        text-align: right;\n",
              "    }\n",
              "</style>\n",
              "<table border=\"1\" class=\"dataframe\">\n",
              "  <thead>\n",
              "    <tr style=\"text-align: right;\">\n",
              "      <th></th>\n",
              "      <th>Pregnancies</th>\n",
              "      <th>Glucose</th>\n",
              "      <th>BloodPressure</th>\n",
              "      <th>SkinThickness</th>\n",
              "      <th>Insulin</th>\n",
              "      <th>BMI</th>\n",
              "      <th>DiabetesPedigreeFunction</th>\n",
              "      <th>Age</th>\n",
              "    </tr>\n",
              "  </thead>\n",
              "  <tbody>\n",
              "    <tr>\n",
              "      <th>Pregnancies</th>\n",
              "      <td>1.00</td>\n",
              "      <td>0.13</td>\n",
              "      <td>0.14</td>\n",
              "      <td>-0.08</td>\n",
              "      <td>-0.07</td>\n",
              "      <td>0.02</td>\n",
              "      <td>-0.03</td>\n",
              "      <td>0.54</td>\n",
              "    </tr>\n",
              "    <tr>\n",
              "      <th>Glucose</th>\n",
              "      <td>0.13</td>\n",
              "      <td>1.00</td>\n",
              "      <td>0.15</td>\n",
              "      <td>0.06</td>\n",
              "      <td>0.33</td>\n",
              "      <td>0.22</td>\n",
              "      <td>0.14</td>\n",
              "      <td>0.26</td>\n",
              "    </tr>\n",
              "    <tr>\n",
              "      <th>BloodPressure</th>\n",
              "      <td>0.14</td>\n",
              "      <td>0.15</td>\n",
              "      <td>1.00</td>\n",
              "      <td>0.21</td>\n",
              "      <td>0.09</td>\n",
              "      <td>0.28</td>\n",
              "      <td>0.04</td>\n",
              "      <td>0.24</td>\n",
              "    </tr>\n",
              "    <tr>\n",
              "      <th>SkinThickness</th>\n",
              "      <td>-0.08</td>\n",
              "      <td>0.06</td>\n",
              "      <td>0.21</td>\n",
              "      <td>1.00</td>\n",
              "      <td>0.44</td>\n",
              "      <td>0.39</td>\n",
              "      <td>0.18</td>\n",
              "      <td>-0.11</td>\n",
              "    </tr>\n",
              "    <tr>\n",
              "      <th>Insulin</th>\n",
              "      <td>-0.07</td>\n",
              "      <td>0.33</td>\n",
              "      <td>0.09</td>\n",
              "      <td>0.44</td>\n",
              "      <td>1.00</td>\n",
              "      <td>0.20</td>\n",
              "      <td>0.19</td>\n",
              "      <td>-0.04</td>\n",
              "    </tr>\n",
              "    <tr>\n",
              "      <th>BMI</th>\n",
              "      <td>0.02</td>\n",
              "      <td>0.22</td>\n",
              "      <td>0.28</td>\n",
              "      <td>0.39</td>\n",
              "      <td>0.20</td>\n",
              "      <td>1.00</td>\n",
              "      <td>0.14</td>\n",
              "      <td>0.04</td>\n",
              "    </tr>\n",
              "    <tr>\n",
              "      <th>DiabetesPedigreeFunction</th>\n",
              "      <td>-0.03</td>\n",
              "      <td>0.14</td>\n",
              "      <td>0.04</td>\n",
              "      <td>0.18</td>\n",
              "      <td>0.19</td>\n",
              "      <td>0.14</td>\n",
              "      <td>1.00</td>\n",
              "      <td>0.03</td>\n",
              "    </tr>\n",
              "    <tr>\n",
              "      <th>Age</th>\n",
              "      <td>0.54</td>\n",
              "      <td>0.26</td>\n",
              "      <td>0.24</td>\n",
              "      <td>-0.11</td>\n",
              "      <td>-0.04</td>\n",
              "      <td>0.04</td>\n",
              "      <td>0.03</td>\n",
              "      <td>1.00</td>\n",
              "    </tr>\n",
              "  </tbody>\n",
              "</table>\n",
              "</div>\n",
              "      <button class=\"colab-df-convert\" onclick=\"convertToInteractive('df-4a1370bf-f51a-4b69-a872-1db36846ba32')\"\n",
              "              title=\"Convert this dataframe to an interactive table.\"\n",
              "              style=\"display:none;\">\n",
              "        \n",
              "  <svg xmlns=\"http://www.w3.org/2000/svg\" height=\"24px\"viewBox=\"0 0 24 24\"\n",
              "       width=\"24px\">\n",
              "    <path d=\"M0 0h24v24H0V0z\" fill=\"none\"/>\n",
              "    <path d=\"M18.56 5.44l.94 2.06.94-2.06 2.06-.94-2.06-.94-.94-2.06-.94 2.06-2.06.94zm-11 1L8.5 8.5l.94-2.06 2.06-.94-2.06-.94L8.5 2.5l-.94 2.06-2.06.94zm10 10l.94 2.06.94-2.06 2.06-.94-2.06-.94-.94-2.06-.94 2.06-2.06.94z\"/><path d=\"M17.41 7.96l-1.37-1.37c-.4-.4-.92-.59-1.43-.59-.52 0-1.04.2-1.43.59L10.3 9.45l-7.72 7.72c-.78.78-.78 2.05 0 2.83L4 21.41c.39.39.9.59 1.41.59.51 0 1.02-.2 1.41-.59l7.78-7.78 2.81-2.81c.8-.78.8-2.07 0-2.86zM5.41 20L4 18.59l7.72-7.72 1.47 1.35L5.41 20z\"/>\n",
              "  </svg>\n",
              "      </button>\n",
              "      \n",
              "  <style>\n",
              "    .colab-df-container {\n",
              "      display:flex;\n",
              "      flex-wrap:wrap;\n",
              "      gap: 12px;\n",
              "    }\n",
              "\n",
              "    .colab-df-convert {\n",
              "      background-color: #E8F0FE;\n",
              "      border: none;\n",
              "      border-radius: 50%;\n",
              "      cursor: pointer;\n",
              "      display: none;\n",
              "      fill: #1967D2;\n",
              "      height: 32px;\n",
              "      padding: 0 0 0 0;\n",
              "      width: 32px;\n",
              "    }\n",
              "\n",
              "    .colab-df-convert:hover {\n",
              "      background-color: #E2EBFA;\n",
              "      box-shadow: 0px 1px 2px rgba(60, 64, 67, 0.3), 0px 1px 3px 1px rgba(60, 64, 67, 0.15);\n",
              "      fill: #174EA6;\n",
              "    }\n",
              "\n",
              "    [theme=dark] .colab-df-convert {\n",
              "      background-color: #3B4455;\n",
              "      fill: #D2E3FC;\n",
              "    }\n",
              "\n",
              "    [theme=dark] .colab-df-convert:hover {\n",
              "      background-color: #434B5C;\n",
              "      box-shadow: 0px 1px 3px 1px rgba(0, 0, 0, 0.15);\n",
              "      filter: drop-shadow(0px 1px 2px rgba(0, 0, 0, 0.3));\n",
              "      fill: #FFFFFF;\n",
              "    }\n",
              "  </style>\n",
              "\n",
              "      <script>\n",
              "        const buttonEl =\n",
              "          document.querySelector('#df-4a1370bf-f51a-4b69-a872-1db36846ba32 button.colab-df-convert');\n",
              "        buttonEl.style.display =\n",
              "          google.colab.kernel.accessAllowed ? 'block' : 'none';\n",
              "\n",
              "        async function convertToInteractive(key) {\n",
              "          const element = document.querySelector('#df-4a1370bf-f51a-4b69-a872-1db36846ba32');\n",
              "          const dataTable =\n",
              "            await google.colab.kernel.invokeFunction('convertToInteractive',\n",
              "                                                     [key], {});\n",
              "          if (!dataTable) return;\n",
              "\n",
              "          const docLinkHtml = 'Like what you see? Visit the ' +\n",
              "            '<a target=\"_blank\" href=https://colab.research.google.com/notebooks/data_table.ipynb>data table notebook</a>'\n",
              "            + ' to learn more about interactive tables.';\n",
              "          element.innerHTML = '';\n",
              "          dataTable['output_type'] = 'display_data';\n",
              "          await google.colab.output.renderOutput(dataTable, element);\n",
              "          const docLink = document.createElement('div');\n",
              "          docLink.innerHTML = docLinkHtml;\n",
              "          element.appendChild(docLink);\n",
              "        }\n",
              "      </script>\n",
              "    </div>\n",
              "  </div>\n",
              "  "
            ]
          },
          "metadata": {},
          "execution_count": 393
        }
      ]
    },
    {
      "cell_type": "markdown",
      "source": [
        "Agar lebih mudah melihat korelasi antar fiturnya, dibuat visualisasi dengan heatmap.\n",
        "\n",
        "Pada heatmap kita dapat melihat semakin cerah warna berarti semakin tinggi korelasinya. Kolom **Age** dan **Pregnancies** memiliki korelasi yang tinggi dibandingkan dengan yang lainnya."
      ],
      "metadata": {
        "id": "wHta8SS-xNa0"
      }
    },
    {
      "cell_type": "code",
      "source": [
        "sns.heatmap(corr_df);"
      ],
      "metadata": {
        "colab": {
          "base_uri": "https://localhost:8080/",
          "height": 390
        },
        "id": "Fpj_y23QbNaH",
        "outputId": "0889eacd-02d6-432f-bb8a-873391bd1112"
      },
      "execution_count": 394,
      "outputs": [
        {
          "output_type": "display_data",
          "data": {
            "text/plain": [
              "<Figure size 432x288 with 2 Axes>"
            ],
            "image/png": "[encoded data removed]"
          },
          "metadata": {
            "needs_background": "light"
          }
        }
      ]
    },
    {
      "cell_type": "markdown",
      "source": [
        "# Machine Learning Preparation"
      ],
      "metadata": {
        "id": "po074j6LJaej"
      }
    },
    {
      "cell_type": "markdown",
      "source": [
        "Pada tahap ini, kita akan menggunakan beberapa library yaitu:\n",
        "\n",
        "\n",
        "1.   **StringIndexer**: ini digunakan agar algoritma machine learning dapat mengidentifikasi kolom data sebagai variabel kategorikal atau jika ingin mengonversi data teks menjadi data numerik dengan menjaga konteks kategorikal.\n",
        "2.   **OneHotEncoder**: memetakan kolom indeks kategori ke kolom vektor biner, dengan paling banyak satu nilai per baris yang menunjukkan indeks kategori input.\n",
        "3.   **VectorAssembler**: berguna untuk menggabungkan *raw features* menjadi satu vektor fitur, untuk melatih model ML seperti logistic regression dan decision tree.\n",
        "4.   **StandardScaler**: mengubah set data baris Vektor, menormalisasi setiap fitur agar memiliki standar deviasi satuan dan/atau rata-rata sama dengan nol.\n",
        "5.   **Pipeline**: pipeline merupakan urutan tahapan, dan setiap tahapan adalah *Transformer* atau *Estimator*. Tahapan ini dijalankan secara berurutan, dan input DataFrame ditransformasikan saat melewati setiap tahap tsb.\n",
        "\n",
        "Tahap ini merupakan tahap persiapan data agar dapat diolah dan diproses ke tahap selanjutnya yaitu pengujian data lalu pembuatan model."
      ],
      "metadata": {
        "id": "mQ8nI0zqXUnU"
      }
    },
    {
      "cell_type": "code",
      "source": [
        "# import library yang dibutuhkan\n",
        "\n",
        "from pyspark.ml.feature import StringIndexer\n",
        "from pyspark.ml.feature import OneHotEncoder\n",
        "from pyspark.ml.linalg import Vectors\n",
        "from pyspark.ml.feature import VectorAssembler\n",
        "from pyspark.ml.feature import StandardScaler\n",
        "from pyspark.ml import Pipeline"
      ],
      "metadata": {
        "id": "Atk-2f3vJfB_"
      },
      "execution_count": 395,
      "outputs": []
    },
    {
      "cell_type": "code",
      "source": [
        "categoricalColumns = ['age_udf']\n",
        "numericalColumns = ['Pregnancies',\n",
        "                              'Glucose',\n",
        "                              'BloodPressure',\n",
        "                              'SkinThickness',\n",
        "                              'Insulin',\n",
        "                              'BMI',\n",
        "                              'DiabetesPedigreeFunction']\n",
        "stages = []\n",
        "for categoricalCol in categoricalColumns:\n",
        "  stringIndexer = StringIndexer(inputCol=categoricalCol, outputCol=categoricalCol+'_index')\n",
        "  encoder = OneHotEncoder(inputCols=[stringIndexer.getOutputCol()], outputCols=[categoricalCol+\"_class_vec\"])\n",
        "  stages += [stringIndexer, encoder]\n",
        "\n",
        "label_string_indexer = StringIndexer(inputCol='HasDiabetes', outputCol='label')\n",
        "stages += [label_string_indexer]\n",
        "assemblerInputs = [c + '_class_vec' for c in categoricalColumns] + numericalColumns\n",
        "assembler = VectorAssembler(inputCols=assemblerInputs, outputCol='vec_features')\n",
        "stages += [assembler]\n",
        "scaler = StandardScaler(inputCol='vec_features',outputCol='features')\n",
        "stages += [scaler]"
      ],
      "metadata": {
        "id": "m-T7z7apJc6u"
      },
      "execution_count": 396,
      "outputs": []
    },
    {
      "cell_type": "code",
      "source": [
        "cols = df.columns\n",
        "pipeline = Pipeline(stages=stages)\n",
        "df_pipe = pipeline.fit(df).transform(df)\n",
        "selectedCols = ['label','features'] + cols \n",
        "df2 = df_pipe.select(selectedCols)\n",
        "df2.printSchema()"
      ],
      "metadata": {
        "colab": {
          "base_uri": "https://localhost:8080/"
        },
        "id": "qRGSHArsMBRk",
        "outputId": "ae4143af-943e-40f8-8b8a-db2b244f8c05"
      },
      "execution_count": 397,
      "outputs": [
        {
          "output_type": "stream",
          "name": "stdout",
          "text": [
            "root\n",
            " |-- label: double (nullable = false)\n",
            " |-- features: vector (nullable = true)\n",
            " |-- Pregnancies: integer (nullable = true)\n",
            " |-- Glucose: integer (nullable = true)\n",
            " |-- BloodPressure: integer (nullable = true)\n",
            " |-- SkinThickness: integer (nullable = true)\n",
            " |-- Insulin: integer (nullable = true)\n",
            " |-- BMI: double (nullable = true)\n",
            " |-- DiabetesPedigreeFunction: double (nullable = true)\n",
            " |-- Age: integer (nullable = true)\n",
            " |-- HasDiabetes: string (nullable = true)\n",
            " |-- age_udf: string (nullable = true)\n",
            "\n"
          ]
        }
      ]
    },
    {
      "cell_type": "markdown",
      "source": [
        "# Pembagian Data Uji dan Data Latih"
      ],
      "metadata": {
        "id": "QeT6KB1tMHnY"
      }
    },
    {
      "cell_type": "markdown",
      "source": [
        "Data berjumlah 768 records data.\n",
        "\n",
        "Data akan dibagi menjadi data latih dan data uji. Dimana data latih sebesar 80% dan data uji sebesar 20%."
      ],
      "metadata": {
        "id": "qMmjA_z7aaiF"
      }
    },
    {
      "cell_type": "code",
      "source": [
        "train, test = df2.randomSplit([0.8, 0.2], seed=42)\n",
        "print(f\"Training Data Size: {train.count()}\")\n",
        "print(f\"Test Data Size: {test.count()}\")"
      ],
      "metadata": {
        "colab": {
          "base_uri": "https://localhost:8080/"
        },
        "id": "iW7ksAicMmY2",
        "outputId": "ab334f92-22de-43e0-89a9-678b1e6b99a0"
      },
      "execution_count": 398,
      "outputs": [
        {
          "output_type": "stream",
          "name": "stdout",
          "text": [
            "Training Data Size: 645\n",
            "Test Data Size: 123\n"
          ]
        }
      ]
    },
    {
      "cell_type": "code",
      "source": [
        "train.groupby('HasDiabetes').count().show()"
      ],
      "metadata": {
        "colab": {
          "base_uri": "https://localhost:8080/"
        },
        "id": "NOdD_AlVM6ba",
        "outputId": "92706df2-b0c8-4ba8-98a5-9b2ab25553a6"
      },
      "execution_count": 399,
      "outputs": [
        {
          "output_type": "stream",
          "name": "stdout",
          "text": [
            "+-----------+-----+\n",
            "|HasDiabetes|count|\n",
            "+-----------+-----+\n",
            "|         no|  426|\n",
            "|        yes|  219|\n",
            "+-----------+-----+\n",
            "\n"
          ]
        }
      ]
    },
    {
      "cell_type": "markdown",
      "source": [
        "# Training Model"
      ],
      "metadata": {
        "id": "cKLOU3nyNAYO"
      }
    },
    {
      "cell_type": "markdown",
      "source": [
        "Model akan dilatih dengan algoritma *Logistic Regression*"
      ],
      "metadata": {
        "id": "FOxmw4cra2Wh"
      }
    },
    {
      "cell_type": "code",
      "source": [
        "from pyspark.ml.classification import LogisticRegression"
      ],
      "metadata": {
        "id": "h1MVXIjmM87u"
      },
      "execution_count": 400,
      "outputs": []
    },
    {
      "cell_type": "code",
      "source": [
        "lr = LogisticRegression(featuresCol='features',labelCol='label', maxIter=5)\n",
        "model = lr.fit(train)\n",
        "pred = model.transform(test)\n",
        "pred.select('label','features', 'rawPrediction','prediction','probability').toPandas().head()"
      ],
      "metadata": {
        "colab": {
          "base_uri": "https://localhost:8080/",
          "height": 206
        },
        "id": "B9trOPpoNEWG",
        "outputId": "292ffbbd-dfd9-4168-9b63-5b8b2b88a886"
      },
      "execution_count": 401,
      "outputs": [
        {
          "output_type": "execute_result",
          "data": {
            "text/plain": [
              "   label                                           features  \\\n",
              "0    0.0  (2.0778862096170094, 0.0, 0.0, 1.7806383732194...   \n",
              "1    0.0  (2.0778862096170094, 0.0, 0.0, 0.0, 2.90873895...   \n",
              "2    0.0  (2.0778862096170094, 0.0, 0.0, 0.0, 3.15895305...   \n",
              "3    0.0  (2.0778862096170094, 0.0, 0.0, 0.0, 2.94001571...   \n",
              "4    0.0  (0.0, 2.2134517648286796, 0.0, 2.0774114354226...   \n",
              "\n",
              "                               rawPrediction  prediction  \\\n",
              "0  [1.7429907939660518, -1.7429907939660518]         0.0   \n",
              "1  [1.7757500436502376, -1.7757500436502376]         0.0   \n",
              "2  [1.6908882842461948, -1.6908882842461948]         0.0   \n",
              "3    [4.583572403090509, -4.583572403090509]         0.0   \n",
              "4    [4.391237966015179, -4.391237966015179]         0.0   \n",
              "\n",
              "                                  probability  \n",
              "0   [0.8510665535756853, 0.14893344642431472]  \n",
              "1   [0.8551712886841937, 0.14482871131580632]  \n",
              "2    [0.8443409421795658, 0.1556590578204342]  \n",
              "3   [0.9898850310287187, 0.01011496897128128]  \n",
              "4  [0.9877661341261984, 0.012233865873801597]  "
            ],
            "text/html": [
              "\n",
              "  <div id=\"df-ddd9ee8c-d779-4cd2-a128-b9c89de874ba\">\n",
              "    <div class=\"colab-df-container\">\n",
              "      <div>\n",
              "<style scoped>\n",
              "    .dataframe tbody tr th:only-of-type {\n",
              "        vertical-align: middle;\n",
              "    }\n",
              "\n",
              "    .dataframe tbody tr th {\n",
              "        vertical-align: top;\n",
              "    }\n",
              "\n",
              "    .dataframe thead th {\n",
              "        text-align: right;\n",
              "    }\n",
              "</style>\n",
              "<table border=\"1\" class=\"dataframe\">\n",
              "  <thead>\n",
              "    <tr style=\"text-align: right;\">\n",
              "      <th></th>\n",
              "      <th>label</th>\n",
              "      <th>features</th>\n",
              "      <th>rawPrediction</th>\n",
              "      <th>prediction</th>\n",
              "      <th>probability</th>\n",
              "    </tr>\n",
              "  </thead>\n",
              "  <tbody>\n",
              "    <tr>\n",
              "      <th>0</th>\n",
              "      <td>0.0</td>\n",
              "      <td>(2.0778862096170094, 0.0, 0.0, 1.7806383732194...</td>\n",
              "      <td>[1.7429907939660518, -1.7429907939660518]</td>\n",
              "      <td>0.0</td>\n",
              "      <td>[0.8510665535756853, 0.14893344642431472]</td>\n",
              "    </tr>\n",
              "    <tr>\n",
              "      <th>1</th>\n",
              "      <td>0.0</td>\n",
              "      <td>(2.0778862096170094, 0.0, 0.0, 0.0, 2.90873895...</td>\n",
              "      <td>[1.7757500436502376, -1.7757500436502376]</td>\n",
              "      <td>0.0</td>\n",
              "      <td>[0.8551712886841937, 0.14482871131580632]</td>\n",
              "    </tr>\n",
              "    <tr>\n",
              "      <th>2</th>\n",
              "      <td>0.0</td>\n",
              "      <td>(2.0778862096170094, 0.0, 0.0, 0.0, 3.15895305...</td>\n",
              "      <td>[1.6908882842461948, -1.6908882842461948]</td>\n",
              "      <td>0.0</td>\n",
              "      <td>[0.8443409421795658, 0.1556590578204342]</td>\n",
              "    </tr>\n",
              "    <tr>\n",
              "      <th>3</th>\n",
              "      <td>0.0</td>\n",
              "      <td>(2.0778862096170094, 0.0, 0.0, 0.0, 2.94001571...</td>\n",
              "      <td>[4.583572403090509, -4.583572403090509]</td>\n",
              "      <td>0.0</td>\n",
              "      <td>[0.9898850310287187, 0.01011496897128128]</td>\n",
              "    </tr>\n",
              "    <tr>\n",
              "      <th>4</th>\n",
              "      <td>0.0</td>\n",
              "      <td>(0.0, 2.2134517648286796, 0.0, 2.0774114354226...</td>\n",
              "      <td>[4.391237966015179, -4.391237966015179]</td>\n",
              "      <td>0.0</td>\n",
              "      <td>[0.9877661341261984, 0.012233865873801597]</td>\n",
              "    </tr>\n",
              "  </tbody>\n",
              "</table>\n",
              "</div>\n",
              "      <button class=\"colab-df-convert\" onclick=\"convertToInteractive('df-ddd9ee8c-d779-4cd2-a128-b9c89de874ba')\"\n",
              "              title=\"Convert this dataframe to an interactive table.\"\n",
              "              style=\"display:none;\">\n",
              "        \n",
              "  <svg xmlns=\"http://www.w3.org/2000/svg\" height=\"24px\"viewBox=\"0 0 24 24\"\n",
              "       width=\"24px\">\n",
              "    <path d=\"M0 0h24v24H0V0z\" fill=\"none\"/>\n",
              "    <path d=\"M18.56 5.44l.94 2.06.94-2.06 2.06-.94-2.06-.94-.94-2.06-.94 2.06-2.06.94zm-11 1L8.5 8.5l.94-2.06 2.06-.94-2.06-.94L8.5 2.5l-.94 2.06-2.06.94zm10 10l.94 2.06.94-2.06 2.06-.94-2.06-.94-.94-2.06-.94 2.06-2.06.94z\"/><path d=\"M17.41 7.96l-1.37-1.37c-.4-.4-.92-.59-1.43-.59-.52 0-1.04.2-1.43.59L10.3 9.45l-7.72 7.72c-.78.78-.78 2.05 0 2.83L4 21.41c.39.39.9.59 1.41.59.51 0 1.02-.2 1.41-.59l7.78-7.78 2.81-2.81c.8-.78.8-2.07 0-2.86zM5.41 20L4 18.59l7.72-7.72 1.47 1.35L5.41 20z\"/>\n",
              "  </svg>\n",
              "      </button>\n",
              "      \n",
              "  <style>\n",
              "    .colab-df-container {\n",
              "      display:flex;\n",
              "      flex-wrap:wrap;\n",
              "      gap: 12px;\n",
              "    }\n",
              "\n",
              "    .colab-df-convert {\n",
              "      background-color: #E8F0FE;\n",
              "      border: none;\n",
              "      border-radius: 50%;\n",
              "      cursor: pointer;\n",
              "      display: none;\n",
              "      fill: #1967D2;\n",
              "      height: 32px;\n",
              "      padding: 0 0 0 0;\n",
              "      width: 32px;\n",
              "    }\n",
              "\n",
              "    .colab-df-convert:hover {\n",
              "      background-color: #E2EBFA;\n",
              "      box-shadow: 0px 1px 2px rgba(60, 64, 67, 0.3), 0px 1px 3px 1px rgba(60, 64, 67, 0.15);\n",
              "      fill: #174EA6;\n",
              "    }\n",
              "\n",
              "    [theme=dark] .colab-df-convert {\n",
              "      background-color: #3B4455;\n",
              "      fill: #D2E3FC;\n",
              "    }\n",
              "\n",
              "    [theme=dark] .colab-df-convert:hover {\n",
              "      background-color: #434B5C;\n",
              "      box-shadow: 0px 1px 3px 1px rgba(0, 0, 0, 0.15);\n",
              "      filter: drop-shadow(0px 1px 2px rgba(0, 0, 0, 0.3));\n",
              "      fill: #FFFFFF;\n",
              "    }\n",
              "  </style>\n",
              "\n",
              "      <script>\n",
              "        const buttonEl =\n",
              "          document.querySelector('#df-ddd9ee8c-d779-4cd2-a128-b9c89de874ba button.colab-df-convert');\n",
              "        buttonEl.style.display =\n",
              "          google.colab.kernel.accessAllowed ? 'block' : 'none';\n",
              "\n",
              "        async function convertToInteractive(key) {\n",
              "          const element = document.querySelector('#df-ddd9ee8c-d779-4cd2-a128-b9c89de874ba');\n",
              "          const dataTable =\n",
              "            await google.colab.kernel.invokeFunction('convertToInteractive',\n",
              "                                                     [key], {});\n",
              "          if (!dataTable) return;\n",
              "\n",
              "          const docLinkHtml = 'Like what you see? Visit the ' +\n",
              "            '<a target=\"_blank\" href=https://colab.research.google.com/notebooks/data_table.ipynb>data table notebook</a>'\n",
              "            + ' to learn more about interactive tables.';\n",
              "          element.innerHTML = '';\n",
              "          dataTable['output_type'] = 'display_data';\n",
              "          await google.colab.output.renderOutput(dataTable, element);\n",
              "          const docLink = document.createElement('div');\n",
              "          docLink.innerHTML = docLinkHtml;\n",
              "          element.appendChild(docLink);\n",
              "        }\n",
              "      </script>\n",
              "    </div>\n",
              "  </div>\n",
              "  "
            ]
          },
          "metadata": {},
          "execution_count": 401
        }
      ]
    },
    {
      "cell_type": "markdown",
      "source": [
        "# Evaluasi Model"
      ],
      "metadata": {
        "id": "zL3X3trSNKpF"
      }
    },
    {
      "cell_type": "code",
      "source": [
        "from pyspark.ml.evaluation import BinaryClassificationEvaluator"
      ],
      "metadata": {
        "id": "0Wz5N53-NPef"
      },
      "execution_count": 402,
      "outputs": []
    },
    {
      "cell_type": "code",
      "source": [
        "eval = BinaryClassificationEvaluator()\n",
        "print(f\"Test Area Under ROC: {eval.evaluate(pred)}\")"
      ],
      "metadata": {
        "colab": {
          "base_uri": "https://localhost:8080/"
        },
        "id": "0_lRUG09NSrz",
        "outputId": "abd23c66-ec42-469e-e86c-901027133b6b"
      },
      "execution_count": 403,
      "outputs": [
        {
          "output_type": "stream",
          "name": "stdout",
          "text": [
            "Test Area Under ROC: 0.8309431880860446\n"
          ]
        }
      ]
    },
    {
      "cell_type": "markdown",
      "source": [
        "# Akurasi Model"
      ],
      "metadata": {
        "id": "ZHYW6VceNNAM"
      }
    },
    {
      "cell_type": "code",
      "source": [
        "acc = pred.filter(pred.label == pred.prediction).count() / float(pred.count())\n",
        "print(f\"Accuracy: {acc}\")"
      ],
      "metadata": {
        "colab": {
          "base_uri": "https://localhost:8080/"
        },
        "id": "ZEoQ8WamNcsI",
        "outputId": "c3b110e3-e658-4389-bb36-1f8fad85f8ad"
      },
      "execution_count": 404,
      "outputs": [
        {
          "output_type": "stream",
          "name": "stdout",
          "text": [
            "Accuracy: 0.7804878048780488\n"
          ]
        }
      ]
    }
  ]
}